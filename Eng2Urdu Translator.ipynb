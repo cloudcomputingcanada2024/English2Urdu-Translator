{
  "cells": [
    {
      "cell_type": "markdown",
      "metadata": {
        "id": "yiOPZ4OO85_9"
      },
      "source": [
        "#DONE BY:\n",
        "##Ateeb Ahmad (334030)\n",
        "##Saqib Nawab (363841)"
      ]
    },
    {
      "cell_type": "markdown",
      "metadata": {
        "id": "WR4k7ibZ9Be9"
      },
      "source": [
        "##Importing Necessary Libraries"
      ]
    },
    {
      "cell_type": "code",
      "execution_count": 77,
      "metadata": {
        "colab": {
          "base_uri": "https://localhost:8080/"
        },
        "id": "3IYGzCRNLAU4",
        "outputId": "231c9e51-d77e-433c-8f28-1b0bf40e8426"
      },
      "outputs": [
        {
          "output_type": "stream",
          "name": "stdout",
          "text": [
            "Requirement already satisfied: torchtext==0.6.0 in /usr/local/lib/python3.10/dist-packages (0.6.0)\n",
            "Requirement already satisfied: tqdm in /usr/local/lib/python3.10/dist-packages (from torchtext==0.6.0) (4.66.1)\n",
            "Requirement already satisfied: requests in /usr/local/lib/python3.10/dist-packages (from torchtext==0.6.0) (2.31.0)\n",
            "Requirement already satisfied: torch in /usr/local/lib/python3.10/dist-packages (from torchtext==0.6.0) (2.1.0+cu118)\n",
            "Requirement already satisfied: numpy in /usr/local/lib/python3.10/dist-packages (from torchtext==0.6.0) (1.23.5)\n",
            "Requirement already satisfied: six in /usr/local/lib/python3.10/dist-packages (from torchtext==0.6.0) (1.16.0)\n",
            "Requirement already satisfied: sentencepiece in /usr/local/lib/python3.10/dist-packages (from torchtext==0.6.0) (0.1.99)\n",
            "Requirement already satisfied: charset-normalizer<4,>=2 in /usr/local/lib/python3.10/dist-packages (from requests->torchtext==0.6.0) (3.3.2)\n",
            "Requirement already satisfied: idna<4,>=2.5 in /usr/local/lib/python3.10/dist-packages (from requests->torchtext==0.6.0) (3.6)\n",
            "Requirement already satisfied: urllib3<3,>=1.21.1 in /usr/local/lib/python3.10/dist-packages (from requests->torchtext==0.6.0) (2.0.7)\n",
            "Requirement already satisfied: certifi>=2017.4.17 in /usr/local/lib/python3.10/dist-packages (from requests->torchtext==0.6.0) (2023.11.17)\n",
            "Requirement already satisfied: filelock in /usr/local/lib/python3.10/dist-packages (from torch->torchtext==0.6.0) (3.13.1)\n",
            "Requirement already satisfied: typing-extensions in /usr/local/lib/python3.10/dist-packages (from torch->torchtext==0.6.0) (4.5.0)\n",
            "Requirement already satisfied: sympy in /usr/local/lib/python3.10/dist-packages (from torch->torchtext==0.6.0) (1.12)\n",
            "Requirement already satisfied: networkx in /usr/local/lib/python3.10/dist-packages (from torch->torchtext==0.6.0) (3.2.1)\n",
            "Requirement already satisfied: jinja2 in /usr/local/lib/python3.10/dist-packages (from torch->torchtext==0.6.0) (3.1.2)\n",
            "Requirement already satisfied: fsspec in /usr/local/lib/python3.10/dist-packages (from torch->torchtext==0.6.0) (2023.6.0)\n",
            "Requirement already satisfied: triton==2.1.0 in /usr/local/lib/python3.10/dist-packages (from torch->torchtext==0.6.0) (2.1.0)\n",
            "Requirement already satisfied: MarkupSafe>=2.0 in /usr/local/lib/python3.10/dist-packages (from jinja2->torch->torchtext==0.6.0) (2.1.3)\n",
            "Requirement already satisfied: mpmath>=0.19 in /usr/local/lib/python3.10/dist-packages (from sympy->torch->torchtext==0.6.0) (1.3.0)\n"
          ]
        }
      ],
      "source": [
        "!pip install torchtext==0.6.0"
      ]
    },
    {
      "cell_type": "code",
      "execution_count": 78,
      "metadata": {
        "id": "TUn7hbLf8XL4"
      },
      "outputs": [],
      "source": [
        "import torchtext\n",
        "from torchtext.data import Field, BucketIterator, TabularDataset\n",
        "import torch\n",
        "from torch import nn\n",
        "from torchtext.data.metrics import bleu_score\n",
        "from nltk.translate.bleu_score import corpus_bleu\n",
        "\n",
        "import spacy\n",
        "import pandas as pd\n",
        "from sklearn.model_selection import train_test_split\n",
        "import matplotlib.pyplot as plt\n",
        "from tqdm import tqdm\n",
        "import random\n",
        "\n",
        "device = \"cuda\" if torch.cuda.is_available() else \"cpu\""
      ]
    },
    {
      "cell_type": "markdown",
      "metadata": {
        "id": "gg9nP_oUDGXu"
      },
      "source": [
        "##Importing English and Urdu Corpus"
      ]
    },
    {
      "cell_type": "code",
      "execution_count": 79,
      "metadata": {
        "id": "ywER7HsBDFy9"
      },
      "outputs": [],
      "source": [
        "with open('/content/english_corpus.txt', 'r') as english_corpus:\n",
        "  english_text = english_corpus.read().splitlines()\n",
        "\n",
        "with open('/content/urdu_corpus.txt', 'r') as urdu_corpus:\n",
        "  urdu_text = urdu_corpus.read().splitlines()"
      ]
    },
    {
      "cell_type": "markdown",
      "metadata": {
        "id": "PPMqm6zCAoS4"
      },
      "source": [
        "##Creating a Dataset containing Corpus"
      ]
    },
    {
      "cell_type": "code",
      "execution_count": 80,
      "metadata": {
        "id": "vHlmhhYz-PuL"
      },
      "outputs": [],
      "source": [
        "df = pd.DataFrame(columns = [\"English\", \"Urdu\"])\n",
        "df[\"English\"] = english_text\n",
        "df[\"Urdu\"] = urdu_text"
      ]
    },
    {
      "cell_type": "code",
      "execution_count": 81,
      "metadata": {
        "colab": {
          "base_uri": "https://localhost:8080/",
          "height": 424
        },
        "id": "bxp5b2srDWfi",
        "outputId": "65d2b3e6-a24b-4083-98b5-5e05f16d28f1"
      },
      "outputs": [
        {
          "output_type": "execute_result",
          "data": {
            "text/plain": [
              "                     English                       Urdu\n",
              "0        zain is your nephew      زین تمہارا بھتیجا ہے۔\n",
              "1       i wish youd trust me  کاش تم مجھ پر بھروسہ کرتے\n",
              "2           did he touch you      کیا اس نے آپ کو چھوا؟\n",
              "3           its part of life         اس کی زندگی کا حصہ\n",
              "4             zain isnt ugly        زین بدصورت نہیں ہے۔\n",
              "...                      ...                        ...\n",
              "24520  i am in a hurry today       میں آج جلدی میں ہوں۔\n",
              "24521     take this medicine               یہ دوا لے لو\n",
              "24522       this is the case               یہ معاملہ ہے\n",
              "24523            zains tipsy                   زین ٹپسی\n",
              "24524         i am not angry         میں ناراض نہیں ہوں\n",
              "\n",
              "[24525 rows x 2 columns]"
            ],
            "text/html": [
              "\n",
              "  <div id=\"df-e9cf5d21-760a-4b41-81c3-fe821ed57a44\" class=\"colab-df-container\">\n",
              "    <div>\n",
              "<style scoped>\n",
              "    .dataframe tbody tr th:only-of-type {\n",
              "        vertical-align: middle;\n",
              "    }\n",
              "\n",
              "    .dataframe tbody tr th {\n",
              "        vertical-align: top;\n",
              "    }\n",
              "\n",
              "    .dataframe thead th {\n",
              "        text-align: right;\n",
              "    }\n",
              "</style>\n",
              "<table border=\"1\" class=\"dataframe\">\n",
              "  <thead>\n",
              "    <tr style=\"text-align: right;\">\n",
              "      <th></th>\n",
              "      <th>English</th>\n",
              "      <th>Urdu</th>\n",
              "    </tr>\n",
              "  </thead>\n",
              "  <tbody>\n",
              "    <tr>\n",
              "      <th>0</th>\n",
              "      <td>zain is your nephew</td>\n",
              "      <td>زین تمہارا بھتیجا ہے۔</td>\n",
              "    </tr>\n",
              "    <tr>\n",
              "      <th>1</th>\n",
              "      <td>i wish youd trust me</td>\n",
              "      <td>کاش تم مجھ پر بھروسہ کرتے</td>\n",
              "    </tr>\n",
              "    <tr>\n",
              "      <th>2</th>\n",
              "      <td>did he touch you</td>\n",
              "      <td>کیا اس نے آپ کو چھوا؟</td>\n",
              "    </tr>\n",
              "    <tr>\n",
              "      <th>3</th>\n",
              "      <td>its part of life</td>\n",
              "      <td>اس کی زندگی کا حصہ</td>\n",
              "    </tr>\n",
              "    <tr>\n",
              "      <th>4</th>\n",
              "      <td>zain isnt ugly</td>\n",
              "      <td>زین بدصورت نہیں ہے۔</td>\n",
              "    </tr>\n",
              "    <tr>\n",
              "      <th>...</th>\n",
              "      <td>...</td>\n",
              "      <td>...</td>\n",
              "    </tr>\n",
              "    <tr>\n",
              "      <th>24520</th>\n",
              "      <td>i am in a hurry today</td>\n",
              "      <td>میں آج جلدی میں ہوں۔</td>\n",
              "    </tr>\n",
              "    <tr>\n",
              "      <th>24521</th>\n",
              "      <td>take this medicine</td>\n",
              "      <td>یہ دوا لے لو</td>\n",
              "    </tr>\n",
              "    <tr>\n",
              "      <th>24522</th>\n",
              "      <td>this is the case</td>\n",
              "      <td>یہ معاملہ ہے</td>\n",
              "    </tr>\n",
              "    <tr>\n",
              "      <th>24523</th>\n",
              "      <td>zains tipsy</td>\n",
              "      <td>زین ٹپسی</td>\n",
              "    </tr>\n",
              "    <tr>\n",
              "      <th>24524</th>\n",
              "      <td>i am not angry</td>\n",
              "      <td>میں ناراض نہیں ہوں</td>\n",
              "    </tr>\n",
              "  </tbody>\n",
              "</table>\n",
              "<p>24525 rows × 2 columns</p>\n",
              "</div>\n",
              "    <div class=\"colab-df-buttons\">\n",
              "\n",
              "  <div class=\"colab-df-container\">\n",
              "    <button class=\"colab-df-convert\" onclick=\"convertToInteractive('df-e9cf5d21-760a-4b41-81c3-fe821ed57a44')\"\n",
              "            title=\"Convert this dataframe to an interactive table.\"\n",
              "            style=\"display:none;\">\n",
              "\n",
              "  <svg xmlns=\"http://www.w3.org/2000/svg\" height=\"24px\" viewBox=\"0 -960 960 960\">\n",
              "    <path d=\"M120-120v-720h720v720H120Zm60-500h600v-160H180v160Zm220 220h160v-160H400v160Zm0 220h160v-160H400v160ZM180-400h160v-160H180v160Zm440 0h160v-160H620v160ZM180-180h160v-160H180v160Zm440 0h160v-160H620v160Z\"/>\n",
              "  </svg>\n",
              "    </button>\n",
              "\n",
              "  <style>\n",
              "    .colab-df-container {\n",
              "      display:flex;\n",
              "      gap: 12px;\n",
              "    }\n",
              "\n",
              "    .colab-df-convert {\n",
              "      background-color: #E8F0FE;\n",
              "      border: none;\n",
              "      border-radius: 50%;\n",
              "      cursor: pointer;\n",
              "      display: none;\n",
              "      fill: #1967D2;\n",
              "      height: 32px;\n",
              "      padding: 0 0 0 0;\n",
              "      width: 32px;\n",
              "    }\n",
              "\n",
              "    .colab-df-convert:hover {\n",
              "      background-color: #E2EBFA;\n",
              "      box-shadow: 0px 1px 2px rgba(60, 64, 67, 0.3), 0px 1px 3px 1px rgba(60, 64, 67, 0.15);\n",
              "      fill: #174EA6;\n",
              "    }\n",
              "\n",
              "    .colab-df-buttons div {\n",
              "      margin-bottom: 4px;\n",
              "    }\n",
              "\n",
              "    [theme=dark] .colab-df-convert {\n",
              "      background-color: #3B4455;\n",
              "      fill: #D2E3FC;\n",
              "    }\n",
              "\n",
              "    [theme=dark] .colab-df-convert:hover {\n",
              "      background-color: #434B5C;\n",
              "      box-shadow: 0px 1px 3px 1px rgba(0, 0, 0, 0.15);\n",
              "      filter: drop-shadow(0px 1px 2px rgba(0, 0, 0, 0.3));\n",
              "      fill: #FFFFFF;\n",
              "    }\n",
              "  </style>\n",
              "\n",
              "    <script>\n",
              "      const buttonEl =\n",
              "        document.querySelector('#df-e9cf5d21-760a-4b41-81c3-fe821ed57a44 button.colab-df-convert');\n",
              "      buttonEl.style.display =\n",
              "        google.colab.kernel.accessAllowed ? 'block' : 'none';\n",
              "\n",
              "      async function convertToInteractive(key) {\n",
              "        const element = document.querySelector('#df-e9cf5d21-760a-4b41-81c3-fe821ed57a44');\n",
              "        const dataTable =\n",
              "          await google.colab.kernel.invokeFunction('convertToInteractive',\n",
              "                                                    [key], {});\n",
              "        if (!dataTable) return;\n",
              "\n",
              "        const docLinkHtml = 'Like what you see? Visit the ' +\n",
              "          '<a target=\"_blank\" href=https://colab.research.google.com/notebooks/data_table.ipynb>data table notebook</a>'\n",
              "          + ' to learn more about interactive tables.';\n",
              "        element.innerHTML = '';\n",
              "        dataTable['output_type'] = 'display_data';\n",
              "        await google.colab.output.renderOutput(dataTable, element);\n",
              "        const docLink = document.createElement('div');\n",
              "        docLink.innerHTML = docLinkHtml;\n",
              "        element.appendChild(docLink);\n",
              "      }\n",
              "    </script>\n",
              "  </div>\n",
              "\n",
              "\n",
              "<div id=\"df-b95e5e23-9128-4802-b28c-78be586eee23\">\n",
              "  <button class=\"colab-df-quickchart\" onclick=\"quickchart('df-b95e5e23-9128-4802-b28c-78be586eee23')\"\n",
              "            title=\"Suggest charts\"\n",
              "            style=\"display:none;\">\n",
              "\n",
              "<svg xmlns=\"http://www.w3.org/2000/svg\" height=\"24px\"viewBox=\"0 0 24 24\"\n",
              "     width=\"24px\">\n",
              "    <g>\n",
              "        <path d=\"M19 3H5c-1.1 0-2 .9-2 2v14c0 1.1.9 2 2 2h14c1.1 0 2-.9 2-2V5c0-1.1-.9-2-2-2zM9 17H7v-7h2v7zm4 0h-2V7h2v10zm4 0h-2v-4h2v4z\"/>\n",
              "    </g>\n",
              "</svg>\n",
              "  </button>\n",
              "\n",
              "<style>\n",
              "  .colab-df-quickchart {\n",
              "      --bg-color: #E8F0FE;\n",
              "      --fill-color: #1967D2;\n",
              "      --hover-bg-color: #E2EBFA;\n",
              "      --hover-fill-color: #174EA6;\n",
              "      --disabled-fill-color: #AAA;\n",
              "      --disabled-bg-color: #DDD;\n",
              "  }\n",
              "\n",
              "  [theme=dark] .colab-df-quickchart {\n",
              "      --bg-color: #3B4455;\n",
              "      --fill-color: #D2E3FC;\n",
              "      --hover-bg-color: #434B5C;\n",
              "      --hover-fill-color: #FFFFFF;\n",
              "      --disabled-bg-color: #3B4455;\n",
              "      --disabled-fill-color: #666;\n",
              "  }\n",
              "\n",
              "  .colab-df-quickchart {\n",
              "    background-color: var(--bg-color);\n",
              "    border: none;\n",
              "    border-radius: 50%;\n",
              "    cursor: pointer;\n",
              "    display: none;\n",
              "    fill: var(--fill-color);\n",
              "    height: 32px;\n",
              "    padding: 0;\n",
              "    width: 32px;\n",
              "  }\n",
              "\n",
              "  .colab-df-quickchart:hover {\n",
              "    background-color: var(--hover-bg-color);\n",
              "    box-shadow: 0 1px 2px rgba(60, 64, 67, 0.3), 0 1px 3px 1px rgba(60, 64, 67, 0.15);\n",
              "    fill: var(--button-hover-fill-color);\n",
              "  }\n",
              "\n",
              "  .colab-df-quickchart-complete:disabled,\n",
              "  .colab-df-quickchart-complete:disabled:hover {\n",
              "    background-color: var(--disabled-bg-color);\n",
              "    fill: var(--disabled-fill-color);\n",
              "    box-shadow: none;\n",
              "  }\n",
              "\n",
              "  .colab-df-spinner {\n",
              "    border: 2px solid var(--fill-color);\n",
              "    border-color: transparent;\n",
              "    border-bottom-color: var(--fill-color);\n",
              "    animation:\n",
              "      spin 1s steps(1) infinite;\n",
              "  }\n",
              "\n",
              "  @keyframes spin {\n",
              "    0% {\n",
              "      border-color: transparent;\n",
              "      border-bottom-color: var(--fill-color);\n",
              "      border-left-color: var(--fill-color);\n",
              "    }\n",
              "    20% {\n",
              "      border-color: transparent;\n",
              "      border-left-color: var(--fill-color);\n",
              "      border-top-color: var(--fill-color);\n",
              "    }\n",
              "    30% {\n",
              "      border-color: transparent;\n",
              "      border-left-color: var(--fill-color);\n",
              "      border-top-color: var(--fill-color);\n",
              "      border-right-color: var(--fill-color);\n",
              "    }\n",
              "    40% {\n",
              "      border-color: transparent;\n",
              "      border-right-color: var(--fill-color);\n",
              "      border-top-color: var(--fill-color);\n",
              "    }\n",
              "    60% {\n",
              "      border-color: transparent;\n",
              "      border-right-color: var(--fill-color);\n",
              "    }\n",
              "    80% {\n",
              "      border-color: transparent;\n",
              "      border-right-color: var(--fill-color);\n",
              "      border-bottom-color: var(--fill-color);\n",
              "    }\n",
              "    90% {\n",
              "      border-color: transparent;\n",
              "      border-bottom-color: var(--fill-color);\n",
              "    }\n",
              "  }\n",
              "</style>\n",
              "\n",
              "  <script>\n",
              "    async function quickchart(key) {\n",
              "      const quickchartButtonEl =\n",
              "        document.querySelector('#' + key + ' button');\n",
              "      quickchartButtonEl.disabled = true;  // To prevent multiple clicks.\n",
              "      quickchartButtonEl.classList.add('colab-df-spinner');\n",
              "      try {\n",
              "        const charts = await google.colab.kernel.invokeFunction(\n",
              "            'suggestCharts', [key], {});\n",
              "      } catch (error) {\n",
              "        console.error('Error during call to suggestCharts:', error);\n",
              "      }\n",
              "      quickchartButtonEl.classList.remove('colab-df-spinner');\n",
              "      quickchartButtonEl.classList.add('colab-df-quickchart-complete');\n",
              "    }\n",
              "    (() => {\n",
              "      let quickchartButtonEl =\n",
              "        document.querySelector('#df-b95e5e23-9128-4802-b28c-78be586eee23 button');\n",
              "      quickchartButtonEl.style.display =\n",
              "        google.colab.kernel.accessAllowed ? 'block' : 'none';\n",
              "    })();\n",
              "  </script>\n",
              "</div>\n",
              "    </div>\n",
              "  </div>\n"
            ]
          },
          "metadata": {},
          "execution_count": 81
        }
      ],
      "source": [
        "df"
      ]
    },
    {
      "cell_type": "markdown",
      "metadata": {
        "id": "7A6LA2cEECE9"
      },
      "source": [
        "##Using Spacy Modules"
      ]
    },
    {
      "cell_type": "code",
      "execution_count": 82,
      "metadata": {
        "id": "yTvqlRQnDtpu"
      },
      "outputs": [],
      "source": [
        "# Tokenizer modules of Spacy for English & Urdu Language\n",
        "eng = spacy.load('en_core_web_sm')\n",
        "urdu = spacy.blank('ur')"
      ]
    },
    {
      "cell_type": "markdown",
      "metadata": {
        "id": "VrJ4EuLNHJTv"
      },
      "source": [
        "##Tokenization"
      ]
    },
    {
      "cell_type": "code",
      "execution_count": 83,
      "metadata": {
        "id": "AVxkqMv4HMdE"
      },
      "outputs": [],
      "source": [
        "# Functions for Tokenizing Sentences:\n",
        "\n",
        "def eng_tokenization(sentence):\n",
        "  return [e_tok.text for e_tok in eng.tokenizer(sentence)]\n",
        "\n",
        "def urdu_tokenization(sentence):\n",
        "  return [u_tok.text for u_tok in urdu.tokenizer(sentence)]"
      ]
    },
    {
      "cell_type": "markdown",
      "metadata": {
        "id": "-yYxThvELr8w"
      },
      "source": [
        "##Creating Fields"
      ]
    },
    {
      "cell_type": "code",
      "execution_count": 84,
      "metadata": {
        "id": "ZLCvpbd3Lt0m"
      },
      "outputs": [],
      "source": [
        "# Creating Respective Fields for English and Urdu Sentences\n",
        "\n",
        "en_field = Field(tokenize=eng_tokenization, init_token = '<sos>', eos_token = '<eos>')\n",
        "ur_field = Field(tokenize=urdu_tokenization, init_token = '<sos>', eos_token = '<eos>')"
      ]
    },
    {
      "cell_type": "markdown",
      "metadata": {
        "id": "tZDwIlErFGxT"
      },
      "source": [
        "##Splitting the Dataset into Train, Validation & Test set"
      ]
    },
    {
      "cell_type": "code",
      "execution_count": 85,
      "metadata": {
        "id": "6GMcxE8GFPuW"
      },
      "outputs": [],
      "source": [
        "# Split the data into training (80%), validation (10%), and test (10%) sets\n",
        "trainset, tempset = train_test_split(df, test_size=0.2, random_state=40)\n",
        "valset, testset = train_test_split(tempset, test_size=0.5, random_state=40)\n",
        "\n",
        "# Converting to csv\n",
        "trainset.to_csv(\"train.csv\", index=False)\n",
        "valset.to_csv(\"val.csv\", index=False)\n",
        "testset.to_csv(\"test.csv\", index=False)"
      ]
    },
    {
      "cell_type": "markdown",
      "metadata": {
        "id": "1kRevOogI2oi"
      },
      "source": [
        "##Creating a Tabular Dataset"
      ]
    },
    {
      "cell_type": "code",
      "execution_count": 86,
      "metadata": {
        "id": "eaTY4bHEI9-H"
      },
      "outputs": [],
      "source": [
        "# Associating fields with respective columns in the dataset\n",
        "fields = [(\"English\", en_field), (\"Urdu\", ur_field)]\n",
        "\n",
        "# Creating a tabular dataset of tokenized words\n",
        "trainset, valset, testset = TabularDataset.splits(\n",
        "    path='/content/',\n",
        "    train='train.csv',\n",
        "    validation='val.csv',\n",
        "    test='test.csv',\n",
        "    format='csv',\n",
        "    fields=fields\n",
        ")"
      ]
    },
    {
      "cell_type": "markdown",
      "metadata": {
        "id": "nXcqR70lY7Ee"
      },
      "source": [
        "##Creating Vocabulary"
      ]
    },
    {
      "cell_type": "code",
      "execution_count": 87,
      "metadata": {
        "id": "SRMyj_qpY9WK"
      },
      "outputs": [],
      "source": [
        "# Vocabulary for English Words\n",
        "en_field.build_vocab(trainset, valset, testset)\n",
        "\n",
        "# Vocabulary for Urdu Words\n",
        "ur_field.build_vocab(trainset, valset, testset)"
      ]
    },
    {
      "cell_type": "markdown",
      "metadata": {
        "id": "tlwnYDHN-Oii"
      },
      "source": [
        "##Creating Dataloaders i.e., Bucket Iterator"
      ]
    },
    {
      "cell_type": "markdown",
      "metadata": {
        "id": "7vQbdxOeNxTW"
      },
      "source": [
        "###Defining Padding"
      ]
    },
    {
      "cell_type": "code",
      "execution_count": 193,
      "metadata": {
        "id": "053K1VYxNwol"
      },
      "outputs": [],
      "source": [
        "# Defining Padding Rule i.e., padding according to max length sentence\n",
        "def padding(example):\n",
        "    return max(len(example.English), len(example.Urdu))"
      ]
    },
    {
      "cell_type": "code",
      "execution_count": 194,
      "metadata": {
        "id": "XqPVl1c9-V69"
      },
      "outputs": [],
      "source": [
        "batch_size = 64\n",
        "\n",
        "train_iterator, val_iterator, test_iterator = BucketIterator.splits(\n",
        "    datasets = (trainset, valset, testset),\n",
        "    batch_size = batch_size,\n",
        "    sort_within_batch = True,\n",
        "    sort_key = lambda x: padding(x),\n",
        "    device = device,\n",
        "    shuffle = True\n",
        ")"
      ]
    },
    {
      "cell_type": "markdown",
      "metadata": {
        "id": "gtbPSSdER26Z"
      },
      "source": [
        "##Encoder Module"
      ]
    },
    {
      "cell_type": "code",
      "execution_count": 195,
      "metadata": {
        "id": "d__tnRftR594"
      },
      "outputs": [],
      "source": [
        "class Encoder(nn.Module):\n",
        "\n",
        "  def __init__(self, embedding_size, hiddenLayers, hiddenLayer_size, input_size = len(en_field.vocab)):\n",
        "    super(Encoder, self).__init__()\n",
        "\n",
        "    # The Encoder Part Usually contains Word Embeddings and LSTM\n",
        "    self.encoder = nn.Sequential (\n",
        "        nn.Embedding(input_size, embedding_size),\n",
        "        nn.Dropout(0.5),\n",
        "        nn.LSTM(embedding_size, hiddenLayer_size, num_layers = hiddenLayers, dropout = 0.5)\n",
        "    )\n",
        "\n",
        "  def forward(self, x):\n",
        "\n",
        "    y, (hidden, cell) = self.encoder(x)\n",
        "    return hidden, cell"
      ]
    },
    {
      "cell_type": "markdown",
      "metadata": {
        "id": "b4V_tx8LLVOP"
      },
      "source": [
        "##Decoder Module"
      ]
    },
    {
      "cell_type": "code",
      "execution_count": 196,
      "metadata": {
        "id": "awBc3B2KLYHb"
      },
      "outputs": [],
      "source": [
        "class Decoder(nn.Module):\n",
        "\n",
        "  def __init__(self, embedding_size, hiddenLayers, hiddenLayer_size, input_size = len(ur_field.vocab), num_classes = len(ur_field.vocab)):\n",
        "    super(Decoder, self).__init__()\n",
        "\n",
        "    # The Decoder Part Contains the Embeddings, LSTMs, and Fully Connected Layers\n",
        "    self.embedding = nn.Sequential (\n",
        "        nn.Embedding(input_size, embedding_size),\n",
        "        nn.Dropout(0.5)\n",
        "    )\n",
        "\n",
        "    self.lstm = nn.LSTM(embedding_size, hiddenLayer_size, num_layers = hiddenLayers, dropout = 0.5)\n",
        "\n",
        "\n",
        "    self.fc = nn.Sequential (\n",
        "\n",
        "        nn.Linear(hiddenLayer_size, num_classes)\n",
        "    )\n",
        "\n",
        "  def forward(self, x, hidden, cell):\n",
        "\n",
        "    # Converting size of (N) to (1,N)\n",
        "    x = x.unsqueeze(0)\n",
        "\n",
        "    # Passing through the embedding layer\n",
        "    embedding_vector = self.embedding(x)\n",
        "\n",
        "    # Passing through the LSTM block\n",
        "    y, (hidden, cell) = self.lstm(embedding_vector, (hidden, cell))\n",
        "\n",
        "    # Passing through Fully Connected Layer to Get Predictions\n",
        "    pred = self.fc(y)\n",
        "\n",
        "    # Converting Back to (N) from (1,N)\n",
        "    pred = pred.squeeze(0)\n",
        "\n",
        "    return pred, hidden, cell"
      ]
    },
    {
      "cell_type": "markdown",
      "metadata": {
        "id": "dquJyyAOSQtk"
      },
      "source": [
        "##Seq2Seq Model"
      ]
    },
    {
      "cell_type": "code",
      "execution_count": 197,
      "metadata": {
        "id": "7c2vR7YiSTLQ"
      },
      "outputs": [],
      "source": [
        "class Eng2Urdu(nn.Module):\n",
        "\n",
        "  def __init__(self, encoder, decoder):\n",
        "    super(Eng2Urdu, self).__init__()\n",
        "\n",
        "    self.encoder = encoder\n",
        "    self.decoder = decoder\n",
        "\n",
        "  def forward(self, english, urdu, teacher_forcing_ratio = 0.5):\n",
        "\n",
        "    batch_size = english.shape[1]\n",
        "\n",
        "    # Creating a list of Size (length, batch, classes) for Storing Outputs\n",
        "    outputs = torch.zeros(len(urdu), batch_size, len(ur_field.vocab)).to(device)\n",
        "\n",
        "    # Passing the english (source) sentence to Encoder\n",
        "    hidden, cell = self.encoder(english)\n",
        "\n",
        "    # Getting <sos> token\n",
        "    x = urdu[0]\n",
        "\n",
        "    for i in range(1, len(urdu)):\n",
        "\n",
        "      # Passing the Urdu (target) sentence to the Decoder\n",
        "      word, hidden, cell = self.decoder(x, hidden, cell)\n",
        "\n",
        "      # Storing the words\n",
        "      outputs[i] = word\n",
        "\n",
        "      # Getting the predicted word\n",
        "      pred_word = word.argmax(1)\n",
        "\n",
        "      # Applying teacher forcing\n",
        "      x = urdu[i] if random.random() < teacher_forcing_ratio else pred_word\n",
        "\n",
        "    return outputs\n",
        "\n"
      ]
    },
    {
      "cell_type": "code",
      "execution_count": 198,
      "metadata": {
        "colab": {
          "base_uri": "https://localhost:8080/"
        },
        "id": "OOyd7TeWq9Gd",
        "outputId": "665ee600-7dc8-4adb-95b0-a870ba07e547"
      },
      "outputs": [
        {
          "output_type": "execute_result",
          "data": {
            "text/plain": [
              "Eng2Urdu(\n",
              "  (encoder): Encoder(\n",
              "    (encoder): Sequential(\n",
              "      (0): Embedding(5601, 512)\n",
              "      (1): Dropout(p=0.5, inplace=False)\n",
              "      (2): LSTM(512, 1024, dropout=0.5)\n",
              "    )\n",
              "  )\n",
              "  (decoder): Decoder(\n",
              "    (embedding): Sequential(\n",
              "      (0): Embedding(5650, 512)\n",
              "      (1): Dropout(p=0.5, inplace=False)\n",
              "    )\n",
              "    (lstm): LSTM(512, 1024, dropout=0.5)\n",
              "    (fc): Sequential(\n",
              "      (0): Linear(in_features=1024, out_features=5650, bias=True)\n",
              "    )\n",
              "  )\n",
              ")"
            ]
          },
          "metadata": {},
          "execution_count": 198
        }
      ],
      "source": [
        "# Specifying the Hyperparameters of the LSTM Module:\n",
        "\n",
        "embedding_size = 512\n",
        "hiddenLayers = 1\n",
        "hiddenLayer_size = 1024\n",
        "\n",
        "encoder = Encoder(embedding_size, hiddenLayers, hiddenLayer_size).to(device)\n",
        "decoder = Decoder(embedding_size, hiddenLayers, hiddenLayer_size).to(device)\n",
        "\n",
        "model = Eng2Urdu(encoder, decoder).to(device)\n",
        "model"
      ]
    },
    {
      "cell_type": "markdown",
      "metadata": {
        "id": "lTg2L1S4mE7k"
      },
      "source": [
        "##Defining Loss Function and Optimizer"
      ]
    },
    {
      "cell_type": "code",
      "execution_count": 199,
      "metadata": {
        "id": "fVCg1nDumIq-"
      },
      "outputs": [],
      "source": [
        "# Loss function\n",
        "L = torch.nn.CrossEntropyLoss()\n",
        "\n",
        "# Optimizer\n",
        "optimizer = torch.optim.Adam(model.parameters(), lr=0.001, weight_decay = 0.00005)\n",
        "\n",
        "# Scheduler\n",
        "scheduler = torch.optim.lr_scheduler.ReduceLROnPlateau(optimizer, patience = 3, verbose = True)"
      ]
    },
    {
      "cell_type": "markdown",
      "metadata": {
        "id": "Ikp5hyCYmLzE"
      },
      "source": [
        "##Training the Model"
      ]
    },
    {
      "cell_type": "code",
      "execution_count": 200,
      "metadata": {
        "id": "4Z0v5opZgbet"
      },
      "outputs": [],
      "source": [
        "# A function for converting Predictions to Urdu Sentences\n",
        "def convertPredtoUrdu(yhat):\n",
        "\n",
        "  sentence = []\n",
        "\n",
        "  # Finding the highest probability out of all words\n",
        "  sentences = yhat.argmax(2)\n",
        "\n",
        "  sentences[0] = 2 # Appending <sos> tag\n",
        "\n",
        "  # Taking the transpose for easier conversion\n",
        "  t_sentences = torch.transpose(sentences, 0, 1)\n",
        "\n",
        "  # Converting to Sentences Using the Urdu Vocabulary\n",
        "  for i in range(len(t_sentences)):\n",
        "    urdu = [ur_field.vocab.itos[tok.item()] for tok in t_sentences[i]]\n",
        "    sentence.append(urdu)\n",
        "\n",
        "  return sentence"
      ]
    },
    {
      "cell_type": "code",
      "execution_count": 201,
      "metadata": {
        "id": "_2OeWbQ9yDCF"
      },
      "outputs": [],
      "source": [
        "# A function for converting the target sentences back to their Original Sentences\n",
        "def convertTargetstoUrdu(target):\n",
        "\n",
        "  sentence = []\n",
        "\n",
        "  # Taking the transpose for easier conversion\n",
        "  t_target = torch.transpose(target, 0, 1)\n",
        "\n",
        "  # Converting to Sentences Using the Urdu Vocabulary\n",
        "  for i in range(len(t_target)):\n",
        "    urdu = [ur_field.vocab.itos[tok.item()] for tok in t_target[i]]\n",
        "    sentence.append([urdu])\n",
        "\n",
        "  return sentence"
      ]
    },
    {
      "cell_type": "code",
      "execution_count": 202,
      "metadata": {
        "id": "IYkNVtic-hrZ"
      },
      "outputs": [],
      "source": [
        "# A single modular function used for all Training, Validation and Testing\n",
        "def train_or_val(model, optimizer, dataloader, train):\n",
        "\n",
        "  if train:\n",
        "    model.train()\n",
        "  else:\n",
        "    model.eval()\n",
        "\n",
        "  running_loss = 0\n",
        "  pred = []\n",
        "  trg = []\n",
        "\n",
        "  # Getting a Batch of Sentences from DataLoader\n",
        "  for sentences in tqdm(dataloader):\n",
        "\n",
        "    # Separating the English & Urdu Sentences\n",
        "    source = sentences.English.to(device)\n",
        "    target = sentences.Urdu.to(device)\n",
        "\n",
        "    # Forward Pass\n",
        "    yhat = model(source, target)\n",
        "\n",
        "    # Converting Predictions to Sentences\n",
        "    predictions = convertPredtoUrdu(yhat)\n",
        "    pred.extend(predictions)\n",
        "\n",
        "    # Converting True Targets to Sentences\n",
        "    targets = convertTargetstoUrdu(target)\n",
        "    trg.extend(targets)\n",
        "\n",
        "    # Reshaping Vectors Before Passing to Loss Function\n",
        "    yhat = yhat[1:].view(-1, yhat.shape[2])\n",
        "    target = target[1:].view(-1)\n",
        "\n",
        "    # Computing loss\n",
        "    loss = L(yhat, target)\n",
        "    running_loss += loss.item()\n",
        "\n",
        "    # Backpropogation\n",
        "    if train:\n",
        "      optimizer.zero_grad() # Making gradient equal to zero to avoid accumulation\n",
        "      loss.backward() # Calculating gradients\n",
        "      optimizer.step() # Updating weights and biases\n",
        "\n",
        "  # Calculating Bleu Score\n",
        "  bleu = corpus_bleu(trg, pred)\n",
        "\n",
        "  # Calculating Loss\n",
        "  loss = running_loss/len(dataloader)\n",
        "\n",
        "  return loss, bleu * 100, trg, pred"
      ]
    },
    {
      "cell_type": "markdown",
      "metadata": {
        "id": "LN1VN1EAZpm6"
      },
      "source": [
        "##Monitoring the Performance"
      ]
    },
    {
      "cell_type": "markdown",
      "metadata": {
        "id": "40fepWAiun30"
      },
      "source": [
        "###Defining Checkpoint Paths"
      ]
    },
    {
      "cell_type": "code",
      "execution_count": 203,
      "metadata": {
        "id": "npvk4TiOurdq"
      },
      "outputs": [],
      "source": [
        "checkpoint_path = \"/content/checkpoint.pth\"\n",
        "bestcheckpoint_path = \"/content/bestcheckpoint.pth\""
      ]
    },
    {
      "cell_type": "code",
      "execution_count": 204,
      "metadata": {
        "colab": {
          "base_uri": "https://localhost:8080/"
        },
        "id": "STP_GQeyZwkZ",
        "outputId": "3c5780ab-9512-4cdd-9329-55cbfbd4fa71"
      },
      "outputs": [
        {
          "output_type": "stream",
          "name": "stdout",
          "text": [
            "Epoch 1: Train\n"
          ]
        },
        {
          "output_type": "stream",
          "name": "stderr",
          "text": [
            "100%|██████████| 307/307 [00:14<00:00, 21.09it/s]\n"
          ]
        },
        {
          "output_type": "stream",
          "name": "stdout",
          "text": [
            "Epoch 1: Validation\n"
          ]
        },
        {
          "output_type": "stream",
          "name": "stderr",
          "text": [
            "100%|██████████| 39/39 [00:00<00:00, 44.05it/s]\n"
          ]
        },
        {
          "output_type": "stream",
          "name": "stdout",
          "text": [
            "\n",
            "Train Loss: 3.996  Train BLEU: 8.90%\n",
            "Val Loss: 3.291  Val BLEU: 14.12%\n",
            "New Max BLEU Score of 14.12% Reached. Saving Model...\n",
            "\n",
            "Epoch 2: Train\n"
          ]
        },
        {
          "output_type": "stream",
          "name": "stderr",
          "text": [
            "100%|██████████| 307/307 [00:14<00:00, 21.39it/s]\n"
          ]
        },
        {
          "output_type": "stream",
          "name": "stdout",
          "text": [
            "Epoch 2: Validation\n"
          ]
        },
        {
          "output_type": "stream",
          "name": "stderr",
          "text": [
            "100%|██████████| 39/39 [00:01<00:00, 30.62it/s]\n"
          ]
        },
        {
          "output_type": "stream",
          "name": "stdout",
          "text": [
            "\n",
            "Train Loss: 2.812  Train BLEU: 19.95%\n",
            "Val Loss: 3.076  Val BLEU: 17.97%\n",
            "New Max BLEU Score of 17.97% Reached. Saving Model...\n",
            "\n",
            "Epoch 3: Train\n"
          ]
        },
        {
          "output_type": "stream",
          "name": "stderr",
          "text": [
            "100%|██████████| 307/307 [00:14<00:00, 21.31it/s]\n"
          ]
        },
        {
          "output_type": "stream",
          "name": "stdout",
          "text": [
            "Epoch 3: Validation\n"
          ]
        },
        {
          "output_type": "stream",
          "name": "stderr",
          "text": [
            "100%|██████████| 39/39 [00:01<00:00, 28.91it/s]\n"
          ]
        },
        {
          "output_type": "stream",
          "name": "stdout",
          "text": [
            "\n",
            "Train Loss: 2.303  Train BLEU: 26.41%\n",
            "Val Loss: 2.657  Val BLEU: 25.59%\n",
            "New Max BLEU Score of 25.59% Reached. Saving Model...\n",
            "\n",
            "Epoch 4: Train\n"
          ]
        },
        {
          "output_type": "stream",
          "name": "stderr",
          "text": [
            "100%|██████████| 307/307 [00:14<00:00, 21.03it/s]\n"
          ]
        },
        {
          "output_type": "stream",
          "name": "stdout",
          "text": [
            "Epoch 4: Validation\n"
          ]
        },
        {
          "output_type": "stream",
          "name": "stderr",
          "text": [
            "100%|██████████| 39/39 [00:00<00:00, 41.13it/s]\n"
          ]
        },
        {
          "output_type": "stream",
          "name": "stdout",
          "text": [
            "\n",
            "Train Loss: 1.915  Train BLEU: 33.00%\n",
            "Val Loss: 2.383  Val BLEU: 30.52%\n",
            "New Max BLEU Score of 30.52% Reached. Saving Model...\n",
            "\n",
            "Epoch 5: Train\n"
          ]
        },
        {
          "output_type": "stream",
          "name": "stderr",
          "text": [
            "100%|██████████| 307/307 [00:14<00:00, 20.96it/s]\n"
          ]
        },
        {
          "output_type": "stream",
          "name": "stdout",
          "text": [
            "Epoch 5: Validation\n"
          ]
        },
        {
          "output_type": "stream",
          "name": "stderr",
          "text": [
            "100%|██████████| 39/39 [00:00<00:00, 45.01it/s]\n"
          ]
        },
        {
          "output_type": "stream",
          "name": "stdout",
          "text": [
            "\n",
            "Train Loss: 1.653  Train BLEU: 38.21%\n",
            "Val Loss: 2.140  Val BLEU: 35.16%\n",
            "New Max BLEU Score of 35.16% Reached. Saving Model...\n",
            "\n",
            "Epoch 6: Train\n"
          ]
        },
        {
          "output_type": "stream",
          "name": "stderr",
          "text": [
            "100%|██████████| 307/307 [00:14<00:00, 21.08it/s]\n"
          ]
        },
        {
          "output_type": "stream",
          "name": "stdout",
          "text": [
            "Epoch 6: Validation\n"
          ]
        },
        {
          "output_type": "stream",
          "name": "stderr",
          "text": [
            "100%|██████████| 39/39 [00:00<00:00, 44.07it/s]\n"
          ]
        },
        {
          "output_type": "stream",
          "name": "stdout",
          "text": [
            "\n",
            "Train Loss: 1.430  Train BLEU: 43.08%\n",
            "Val Loss: 2.044  Val BLEU: 37.29%\n",
            "New Max BLEU Score of 37.29% Reached. Saving Model...\n",
            "\n",
            "Epoch 7: Train\n"
          ]
        },
        {
          "output_type": "stream",
          "name": "stderr",
          "text": [
            "100%|██████████| 307/307 [00:14<00:00, 20.60it/s]\n"
          ]
        },
        {
          "output_type": "stream",
          "name": "stdout",
          "text": [
            "Epoch 7: Validation\n"
          ]
        },
        {
          "output_type": "stream",
          "name": "stderr",
          "text": [
            "100%|██████████| 39/39 [00:01<00:00, 33.73it/s]\n"
          ]
        },
        {
          "output_type": "stream",
          "name": "stdout",
          "text": [
            "\n",
            "Train Loss: 1.247  Train BLEU: 47.74%\n",
            "Val Loss: 2.372  Val BLEU: 32.53%\n",
            "BLEU Score did not increase from 37.29%\n",
            "\n",
            "Epoch 8: Train\n"
          ]
        },
        {
          "output_type": "stream",
          "name": "stderr",
          "text": [
            "100%|██████████| 307/307 [00:14<00:00, 21.31it/s]\n"
          ]
        },
        {
          "output_type": "stream",
          "name": "stdout",
          "text": [
            "Epoch 8: Validation\n"
          ]
        },
        {
          "output_type": "stream",
          "name": "stderr",
          "text": [
            "100%|██████████| 39/39 [00:00<00:00, 45.55it/s]\n"
          ]
        },
        {
          "output_type": "stream",
          "name": "stdout",
          "text": [
            "\n",
            "Train Loss: 1.117  Train BLEU: 51.23%\n",
            "Val Loss: 1.967  Val BLEU: 40.76%\n",
            "New Max BLEU Score of 40.76% Reached. Saving Model...\n",
            "\n",
            "Epoch 9: Train\n"
          ]
        },
        {
          "output_type": "stream",
          "name": "stderr",
          "text": [
            "100%|██████████| 307/307 [00:14<00:00, 21.17it/s]\n"
          ]
        },
        {
          "output_type": "stream",
          "name": "stdout",
          "text": [
            "Epoch 9: Validation\n"
          ]
        },
        {
          "output_type": "stream",
          "name": "stderr",
          "text": [
            "100%|██████████| 39/39 [00:00<00:00, 44.32it/s]\n"
          ]
        },
        {
          "output_type": "stream",
          "name": "stdout",
          "text": [
            "\n",
            "Train Loss: 0.968  Train BLEU: 55.48%\n",
            "Val Loss: 1.876  Val BLEU: 42.28%\n",
            "New Max BLEU Score of 42.28% Reached. Saving Model...\n",
            "\n",
            "Epoch 10: Train\n"
          ]
        },
        {
          "output_type": "stream",
          "name": "stderr",
          "text": [
            "100%|██████████| 307/307 [00:14<00:00, 20.53it/s]\n"
          ]
        },
        {
          "output_type": "stream",
          "name": "stdout",
          "text": [
            "Epoch 10: Validation\n"
          ]
        },
        {
          "output_type": "stream",
          "name": "stderr",
          "text": [
            "100%|██████████| 39/39 [00:00<00:00, 43.58it/s]\n"
          ]
        },
        {
          "output_type": "stream",
          "name": "stdout",
          "text": [
            "\n",
            "Train Loss: 0.856  Train BLEU: 59.37%\n",
            "Val Loss: 1.915  Val BLEU: 42.27%\n",
            "BLEU Score did not increase from 42.28%\n",
            "\n",
            "Epoch 11: Train\n"
          ]
        },
        {
          "output_type": "stream",
          "name": "stderr",
          "text": [
            "100%|██████████| 307/307 [00:14<00:00, 21.36it/s]\n"
          ]
        },
        {
          "output_type": "stream",
          "name": "stdout",
          "text": [
            "Epoch 11: Validation\n"
          ]
        },
        {
          "output_type": "stream",
          "name": "stderr",
          "text": [
            "100%|██████████| 39/39 [00:00<00:00, 44.71it/s]\n"
          ]
        },
        {
          "output_type": "stream",
          "name": "stdout",
          "text": [
            "\n",
            "Train Loss: 0.800  Train BLEU: 61.59%\n",
            "Val Loss: 1.838  Val BLEU: 43.33%\n",
            "New Max BLEU Score of 43.33% Reached. Saving Model...\n",
            "\n",
            "Epoch 12: Train\n"
          ]
        },
        {
          "output_type": "stream",
          "name": "stderr",
          "text": [
            "100%|██████████| 307/307 [00:14<00:00, 21.19it/s]\n"
          ]
        },
        {
          "output_type": "stream",
          "name": "stdout",
          "text": [
            "Epoch 12: Validation\n"
          ]
        },
        {
          "output_type": "stream",
          "name": "stderr",
          "text": [
            "100%|██████████| 39/39 [00:01<00:00, 38.77it/s]\n"
          ]
        },
        {
          "output_type": "stream",
          "name": "stdout",
          "text": [
            "\n",
            "Train Loss: 0.720  Train BLEU: 64.85%\n",
            "Val Loss: 1.842  Val BLEU: 43.65%\n",
            "New Max BLEU Score of 43.65% Reached. Saving Model...\n",
            "\n",
            "Epoch 13: Train\n"
          ]
        },
        {
          "output_type": "stream",
          "name": "stderr",
          "text": [
            "100%|██████████| 307/307 [00:14<00:00, 21.21it/s]\n"
          ]
        },
        {
          "output_type": "stream",
          "name": "stdout",
          "text": [
            "Epoch 13: Validation\n"
          ]
        },
        {
          "output_type": "stream",
          "name": "stderr",
          "text": [
            "100%|██████████| 39/39 [00:00<00:00, 45.77it/s]\n"
          ]
        },
        {
          "output_type": "stream",
          "name": "stdout",
          "text": [
            "\n",
            "Train Loss: 0.646  Train BLEU: 67.64%\n",
            "Val Loss: 1.935  Val BLEU: 41.55%\n",
            "BLEU Score did not increase from 43.65%\n",
            "\n"
          ]
        }
      ],
      "source": [
        "Epochs = 13\n",
        "train_losses, train_bleu = [], []\n",
        "val_losses, val_bleu = [], []\n",
        "stopping_criteria = 0\n",
        "\n",
        "max_bleu = -1\n",
        "\n",
        "for i in range(0, Epochs):\n",
        "\n",
        "  print(f\"Epoch {i + 1}: Train\")\n",
        "  t_loss, t_bleu, t, p = train_or_val(model, optimizer, train_iterator, True)\n",
        "\n",
        "  train_losses.append(t_loss)\n",
        "  train_bleu.append(t_bleu)\n",
        "\n",
        "  print(f\"Epoch {i + 1}: Validation\")\n",
        "  with torch.no_grad():\n",
        "    v_loss, v_bleu, t, p = train_or_val(model, optimizer, val_iterator, False)\n",
        "\n",
        "  # Updating the Scheduler Based on the Value of Validation Loss\n",
        "  scheduler.step(v_loss)\n",
        "\n",
        "  val_losses.append(v_loss)\n",
        "  val_bleu.append(v_bleu)\n",
        "\n",
        "  # Storing Information of each epoch for checkpointing\n",
        "  checkpoint = {\n",
        "      \"model\": model.state_dict(),\n",
        "      \"optimizer\": optimizer.state_dict(),\n",
        "      \"epochs\": i + 1,\n",
        "      \"learning Rate\": optimizer.param_groups[0][\"lr\"],\n",
        "      \"bleu_score\" : max_bleu,\n",
        "      }\n",
        "\n",
        "  print(f\"\\nTrain Loss: {t_loss:>0.3f}  Train BLEU: {t_bleu:>0.2f}%\")\n",
        "  print(f\"Val Loss: {v_loss:>0.3f}  Val BLEU: {v_bleu:>0.2f}%\")\n",
        "\n",
        "  if (v_bleu > max_bleu):\n",
        "\n",
        "    # Reseting the stopping criteria\n",
        "    stopping_criteria = 0\n",
        "\n",
        "    print(f\"New Max BLEU Score of {v_bleu:>0.2f}% Reached. Saving Model...\\n\")\n",
        "    max_bleu = v_bleu\n",
        "\n",
        "    # Storing Checkpoint Information of best epoch\n",
        "    torch.save(checkpoint, bestcheckpoint_path)\n",
        "\n",
        "  else:\n",
        "\n",
        "    stopping_criteria +=1\n",
        "    print(f\"BLEU Score did not increase from {max_bleu:>0.2f}%\\n\")\n",
        "\n",
        "    if (stopping_criteria == 4):\n",
        "      print(\"No Sign of BLEU Score Increasing any Further. Stopping Training... \")\n",
        "      break\n",
        "\n",
        "  # Storing Checkpoint Information of last epoch\n",
        "  torch.save(checkpoint, checkpoint_path)"
      ]
    },
    {
      "cell_type": "markdown",
      "metadata": {
        "id": "JE3i8yT_Vggi"
      },
      "source": [
        "##Plotting Graphs"
      ]
    },
    {
      "cell_type": "code",
      "execution_count": 205,
      "metadata": {
        "id": "alVw2P47T9pk",
        "colab": {
          "base_uri": "https://localhost:8080/",
          "height": 957
        },
        "outputId": "b45029eb-e08b-4a76-c2e8-5b1e71218fa4"
      },
      "outputs": [
        {
          "output_type": "display_data",
          "data": {
            "text/plain": [
              "<Figure size 1000x500 with 1 Axes>"
            ],
            "image/png": "[encoded data removed]"
          },
          "metadata": {}
        },
        {
          "output_type": "display_data",
          "data": {
            "text/plain": [
              "<Figure size 1000x500 with 1 Axes>"
            ],
            "image/png": "[encoded data removed]"
          },
          "metadata": {}
        }
      ],
      "source": [
        "# Plot training and validation losses.\n",
        "plt.figure(figsize=(10,5))\n",
        "plt.title(\"Training and Validation Loss\")\n",
        "plt.plot(val_losses, label=\"Validation\")\n",
        "plt.plot(train_losses, label=\"Training\")\n",
        "plt.xlabel(\"Epochs\")\n",
        "plt.ylabel(\"Loss\")\n",
        "plt.legend()\n",
        "plt.show()\n",
        "\n",
        "# Plot training and validation Accuracies.\n",
        "plt.figure(figsize=(10,5))\n",
        "plt.title(\"Training and Validation BLEU Score\")\n",
        "plt.plot(val_bleu, label=\"Validation\")\n",
        "plt.plot(train_bleu, label=\"Training\")\n",
        "plt.xlabel(\"Epochs\")\n",
        "plt.ylabel(\"Loss\")\n",
        "plt.legend()\n",
        "plt.show()"
      ]
    },
    {
      "cell_type": "markdown",
      "source": [
        "##Testing the Model"
      ],
      "metadata": {
        "id": "BJYIE0qquUmi"
      }
    },
    {
      "cell_type": "code",
      "source": [
        "# Loading the Best Checkpoint\n",
        "checkpoint = torch.load(bestcheckpoint_path, map_location=torch.device(device))\n",
        "\n",
        "# Loading the state of model\n",
        "model.load_state_dict(checkpoint['model'])"
      ],
      "metadata": {
        "colab": {
          "base_uri": "https://localhost:8080/"
        },
        "id": "nnkEsBt9SzSh",
        "outputId": "3d4d178d-7f96-4968-a84d-fb029ce734f0"
      },
      "execution_count": 206,
      "outputs": [
        {
          "output_type": "execute_result",
          "data": {
            "text/plain": [
              "<All keys matched successfully>"
            ]
          },
          "metadata": {},
          "execution_count": 206
        }
      ]
    },
    {
      "cell_type": "code",
      "execution_count": 207,
      "metadata": {
        "id": "KvxfY41GLk6t",
        "colab": {
          "base_uri": "https://localhost:8080/"
        },
        "outputId": "b8cd0026-3ae7-4655-e60e-8650f109cae9"
      },
      "outputs": [
        {
          "output_type": "stream",
          "name": "stderr",
          "text": [
            "100%|██████████| 39/39 [00:01<00:00, 26.87it/s]\n"
          ]
        },
        {
          "output_type": "stream",
          "name": "stdout",
          "text": [
            "\n",
            "Test Loss: 1.796\n",
            "\n",
            "1-Gram Bleu Score: 74.17%\n",
            "2-Gram Bleu Score: 74.17%\n",
            "3-Gram Bleu Score: 74.17%\n",
            "4-Gram Bleu Score: 74.17%\n",
            "Cumulative BLEU Score: 43.12%\n"
          ]
        }
      ],
      "source": [
        "loss, bleu, targets, pred =  train_or_val(model, optimizer, test_iterator, False)\n",
        "\n",
        "# Calulating n-gram Score:\n",
        "oneGram = corpus_bleu(targets, pred, weights=(1,0,0,0))\n",
        "twoGram = corpus_bleu(targets, pred, weights=(0,1,0,0))\n",
        "threeGram = corpus_bleu(targets, pred, weights=(0,0,1,0))\n",
        "fourGram = corpus_bleu(targets, pred, weights=(0,0,0,1))\n",
        "\n",
        "# Printing Various Bleu Score\n",
        "print(f\"\\nTest Loss: {loss:>0.3f}\\n\")\n",
        "print(f\"1-Gram Bleu Score: {oneGram * 100:>0.2f}%\")\n",
        "print(f\"2-Gram Bleu Score: {oneGram * 100:>0.2f}%\")\n",
        "print(f\"3-Gram Bleu Score: {oneGram * 100:>0.2f}%\")\n",
        "print(f\"4-Gram Bleu Score: {oneGram * 100:>0.2f}%\")\n",
        "print(f\"Cumulative BLEU Score: {bleu:>0.2f}%\")"
      ]
    },
    {
      "cell_type": "markdown",
      "source": [
        "##Inferencing"
      ],
      "metadata": {
        "id": "Z_eVAc16NNxD"
      }
    },
    {
      "cell_type": "code",
      "source": [
        "def Eng2Urdu(sentence):\n",
        "\n",
        "  # First, Tokenizing the sentence:\n",
        "  tok_sen = eng_tokenization(sentence)\n",
        "\n",
        "  # Mapping it to its Numerical Representation using English Vocablary\n",
        "  numerical_vector = [en_field.vocab.stoi[i] for i in tok_sen]\n",
        "\n",
        "  # Converting it into a tensor\n",
        "  tensor_sentence = torch.tensor(numerical_vector).to(device)\n",
        "\n",
        "  # Passing it through Encoder\n",
        "  hidden, cell = model.encoder(tensor_sentence)\n",
        "\n",
        "  # Passing it through Decoder:\n",
        "  urdu = []\n",
        "\n",
        "  # First, pass the <sos> token to the decoder\n",
        "  sos_token = ur_field.vocab.stoi[\"<sos>\"]\n",
        "  input = torch.tensor(sos_token).to(device)\n",
        "\n",
        "  # Getting the <eos> token for stopping\n",
        "  eos_token = ur_field.vocab.stoi[\"<eos>\"]\n",
        "\n",
        "  for i in range(0, 30):\n",
        "\n",
        "    words, hidden, cell = model.decoder(input, hidden, cell)\n",
        "\n",
        "    # Getting predicited word\n",
        "    prediction = words.argmax(0)\n",
        "\n",
        "    # Storing it in the list\n",
        "    urdu.append(prediction)\n",
        "\n",
        "    # If last word i.e., <eos> token gets printed, break the loop\n",
        "    if prediction == eos_token:\n",
        "      break\n",
        "\n",
        "    # Passing the predicted word as next input\n",
        "    input = prediction\n",
        "\n",
        "  # Converting Numerical Representation to Urdu Words\n",
        "  urdu_sentence = [ur_field.vocab.itos[i] for i in urdu]\n",
        "  output_string = ' '.join(urdu_sentence[0:-1])\n",
        "\n",
        "  print(output_string)"
      ],
      "metadata": {
        "id": "H6m8IBVuNPqD"
      },
      "execution_count": 220,
      "outputs": []
    },
    {
      "cell_type": "code",
      "source": [
        "Eng2Urdu(\"zain is your nephew\")\n",
        "Eng2Urdu(\"did he touch you?\")\n",
        "Eng2Urdu(\"how are you\")\n",
        "Eng2Urdu(\"why would you say that?\")\n",
        "Eng2Urdu(\"what is your name?\")\n",
        "Eng2Urdu(\"what is my name?\")"
      ],
      "metadata": {
        "colab": {
          "base_uri": "https://localhost:8080/"
        },
        "id": "TUO5dbURdmCL",
        "outputId": "eef2e7e9-9f03-491a-f974-a85d4f6c097e"
      },
      "execution_count": 222,
      "outputs": [
        {
          "output_type": "stream",
          "name": "stdout",
          "text": [
            "زین تمہارا ہے\n",
            "اس نے آپ کو دیکھا\n",
            "آپ آپ ہیں\n",
            "آپ یہ کہتے نہیں ؟\n",
            "آپ کا نام کیا ہے\n",
            "میرا میرا نام ہے\n"
          ]
        }
      ]
    }
  ],
  "metadata": {
    "accelerator": "GPU",
    "colab": {
      "provenance": []
    },
    "kernelspec": {
      "display_name": "Python 3",
      "name": "python3"
    },
    "language_info": {
      "name": "python"
    }
  },
  "nbformat": 4,
  "nbformat_minor": 0
}